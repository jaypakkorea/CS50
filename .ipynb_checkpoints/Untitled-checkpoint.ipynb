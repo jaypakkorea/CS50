{
 "cells": [
  {
   "cell_type": "code",
   "execution_count": null,
   "id": "eed8b5fd",
   "metadata": {},
   "outputs": [],
   "source": [
    "int main(void)\n",
    "{\n",
    "    printf(\"hello, world\\n\");\n",
    "}"
   ]
  },
  {
   "cell_type": "code",
   "execution_count": null,
   "id": "75df7035",
   "metadata": {},
   "outputs": [],
   "source": [
    "./hello"
   ]
  },
  {
   "cell_type": "code",
   "execution_count": null,
   "id": "7ab391eb",
   "metadata": {},
   "outputs": [],
   "source": []
  }
 ],
 "metadata": {
  "kernelspec": {
   "display_name": "C",
   "language": "c",
   "name": "c"
  }
 },
 "nbformat": 4,
 "nbformat_minor": 5
}
